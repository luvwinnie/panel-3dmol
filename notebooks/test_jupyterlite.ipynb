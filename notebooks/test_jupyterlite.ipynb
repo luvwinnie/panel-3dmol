{
 "cells": [
  {
   "cell_type": "markdown",
   "metadata": {},
   "source": [
    "# Panel-3Dmol JupyterLite Integration Test\n",
    "\n",
    "This notebook tests the Panel-3Dmol extension in JupyterLite environment.\n",
    "\n",
    "## Installation\n",
    "\n",
    "First, install the required packages:"
   ]
  },
  {
   "cell_type": "code",
   "execution_count": null,
   "metadata": {},
   "outputs": [],
   "source": [
    "# Install Panel-3Dmol from GitHub\n",
    "%pip install -q git+https://github.com/luvwinnie/panel-chem.git\n",
    "print(\"✅ Panel-3Dmol installed successfully\")"
   ]
  },
  {
   "cell_type": "markdown",
   "metadata": {},
   "source": [
    "## Import and Setup"
   ]
  },
  {
   "cell_type": "code",
   "execution_count": null,
   "metadata": {},
   "outputs": [],
   "source": [
    "import panel as pn\n",
    "from panel_3dmol import Mol3DViewer, view\n",
    "\n",
    "# Enable Panel extension\n",
    "pn.extension()\n",
    "\n",
    "print(\"✅ Imports successful\")\n",
    "print(f\"Panel version: {pn.__version__}\")"
   ]
  },
  {
   "cell_type": "markdown",
   "metadata": {},
   "source": [
    "## Basic Viewer Creation"
   ]
  },
  {
   "cell_type": "code",
   "execution_count": null,
   "metadata": {},
   "outputs": [],
   "source": [
    "# Create a basic molecular viewer\n",
    "viewer = Mol3DViewer(width=600, height=400)\n",
    "\n",
    "print(\"✅ Mol3DViewer created successfully\")\n",
    "print(f\"Viewer type: {type(viewer)}\")\n",
    "print(f\"Default background: {viewer.background_color}\")\n",
    "print(f\"Default filetype: {viewer.filetype}\")"
   ]
  },
  {
   "cell_type": "markdown",
   "metadata": {},
   "source": [
    "## Load Sample Molecules"
   ]
  },
  {
   "cell_type": "code",
   "execution_count": null,
   "metadata": {},
   "outputs": [],
   "source": [
    "# Benzene molecule in XYZ format\n",
    "benzene_xyz = \"\"\"6\n",
    "Benzene molecule\n",
    "C    0.0000    1.3970    0.0000\n",
    "C    1.2098    0.6985    0.0000  \n",
    "C    1.2098   -0.6985    0.0000\n",
    "C    0.0000   -1.3970    0.0000\n",
    "C   -1.2098   -0.6985    0.0000\n",
    "C   -1.2098    0.6985    0.0000\"\"\"\n",
    "\n",
    "# Load the molecule\n",
    "viewer.structure = benzene_xyz\n",
    "viewer.filetype = \"xyz\"\n",
    "\n",
    "print(\"✅ Benzene molecule loaded\")\n",
    "print(f\"Structure length: {len(viewer.structure)} characters\")"
   ]
  },
  {
   "cell_type": "markdown",
   "metadata": {},
   "source": [
    "## Test Visualization Styles"
   ]
  },
  {
   "cell_type": "code",
   "execution_count": null,
   "metadata": {},
   "outputs": [],
   "source": [
    "# Test different visualization styles\n",
    "print(\"Testing visualization styles...\")\n",
    "\n",
    "# Stick + Sphere style (default)\n",
    "viewer.setStyle({}, {'stick': {'radius': 0.15}, 'sphere': {'radius': 0.3}})\n",
    "print(f\"✅ Stick + Sphere: show_stick={viewer.show_stick}, show_sphere={viewer.show_sphere}\")\n",
    "\n",
    "# Line style\n",
    "viewer.setStyle({}, {'line': {}})\n",
    "print(f\"✅ Line style: show_line={viewer.show_line}\")\n",
    "\n",
    "# Reset to stick + sphere\n",
    "viewer.setStyle({}, {'stick': {'radius': 0.2}, 'sphere': {'radius': 0.4}})\n",
    "print(\"✅ Reset to stick + sphere style\")"
   ]
  },
  {
   "cell_type": "markdown",
   "metadata": {},
   "source": [
    "## Test Background Colors"
   ]
  },
  {
   "cell_type": "code",
   "execution_count": null,
   "metadata": {},
   "outputs": [],
   "source": [
    "# Test background color changes\n",
    "print(\"Testing background colors...\")\n",
    "\n",
    "viewer.setBackgroundColor('lightgray')\n",
    "print(f\"✅ Light gray background: {viewer.background_color}\")\n",
    "\n",
    "viewer.setBackgroundColor('black')\n",
    "print(f\"✅ Black background: {viewer.background_color}\")\n",
    "\n",
    "viewer.setBackgroundColor('white')\n",
    "print(f\"✅ Reset to white background: {viewer.background_color}\")"
   ]
  },
  {
   "cell_type": "markdown",
   "metadata": {},
   "source": [
    "## Display the Viewer\n",
    "\n",
    "The molecular viewer should appear below:"
   ]
  },
  {
   "cell_type": "code",
   "execution_count": null,
   "metadata": {},
   "outputs": [],
   "source": [
    "# Display the viewer\n",
    "viewer"
   ]
  },
  {
   "cell_type": "markdown",
   "metadata": {},
   "source": [
    "## Test Factory Function"
   ]
  },
  {
   "cell_type": "code",
   "execution_count": null,
   "metadata": {},
   "outputs": [],
   "source": [
    "# Test the view factory function\n",
    "viewer2 = view(width=500, height=300)\n",
    "\n",
    "# Load a different molecule (caffeine in PDB format)\n",
    "caffeine_pdb = \"\"\"ATOM      1  N   CAF     1      -0.744   1.329   0.000  1.00  0.00           N  \n",
    "ATOM      2  C   CAF     1       0.558   1.875   0.000  1.00  0.00           C  \n",
    "ATOM      3  C   CAF     1       1.657   1.080   0.000  1.00  0.00           C  \n",
    "ATOM      4  N   CAF     1       1.657  -0.287   0.000  1.00  0.00           N  \n",
    "ATOM      5  C   CAF     1       0.455  -0.832   0.000  1.00  0.00           C  \n",
    "ATOM      6  C   CAF     1      -0.744  -0.037   0.000  1.00  0.00           C  \"\"\"\n",
    "\n",
    "viewer2.structure = caffeine_pdb\n",
    "viewer2.filetype = \"pdb\"\n",
    "viewer2.setBackgroundColor('lightblue')\n",
    "\n",
    "print(\"✅ Second viewer created with caffeine molecule\")\n",
    "print(f\"Viewer dimensions: {viewer2.width}x{viewer2.height}\")"
   ]
  },
  {
   "cell_type": "code",
   "execution_count": null,
   "metadata": {},
   "outputs": [],
   "source": [
    "# Display the second viewer\n",
    "viewer2"
   ]
  },
  {
   "cell_type": "markdown",
   "metadata": {},
   "source": [
    "## Panel Dashboard Test"
   ]
  },
  {
   "cell_type": "code",
   "execution_count": null,
   "metadata": {},
   "outputs": [],
   "source": [
    "# Create a Panel dashboard with both viewers\n",
    "dashboard = pn.Column(\n",
    "    \"## 🧬 Molecular Viewer Dashboard\",\n",
    "    pn.Row(\n",
    "        pn.Column(\"### Benzene (XYZ)\", viewer),\n",
    "        pn.Column(\"### Caffeine (PDB)\", viewer2)\n",
    "    ),\n",
    "    sizing_mode='stretch_width'\n",
    ")\n",
    "\n",
    "print(\"✅ Panel dashboard created\")\n",
    "print(f\"Dashboard objects: {len(dashboard.objects)}\")"
   ]
  },
  {
   "cell_type": "code",
   "execution_count": null,
   "metadata": {},
   "outputs": [],
   "source": [
    "# Display the dashboard\n",
    "dashboard"
   ]
  },
  {
   "cell_type": "markdown",
   "metadata": {},
   "source": [
    "## Method Chaining Test"
   ]
  },
  {
   "cell_type": "code",
   "execution_count": null,
   "metadata": {},
   "outputs": [],
   "source": [
    "# Test method chaining (py3dmol compatibility)\n",
    "chained_viewer = (Mol3DViewer()\n",
    "                 .setStyle({}, {'stick': {'radius': 0.1}})\n",
    "                 .setBackgroundColor('lightgray'))\n",
    "\n",
    "# Load ethanol molecule\n",
    "ethanol_xyz = \"\"\"9\n",
    "Ethanol molecule\n",
    "C   -0.748   0.000   0.000\n",
    "C    0.748   0.000   0.000\n",
    "O    1.244   1.291   0.000\n",
    "H   -1.119  -0.516   0.890\n",
    "H   -1.119  -0.516  -0.890\n",
    "H   -1.119   1.032   0.000\n",
    "H    1.119  -0.516   0.890\n",
    "H    1.119  -0.516  -0.890\n",
    "H    1.892   1.291   0.000\"\"\"\n",
    "\n",
    "chained_viewer.structure = ethanol_xyz\n",
    "chained_viewer.filetype = \"xyz\"\n",
    "\n",
    "print(\"✅ Method chaining test successful\")\n",
    "print(f\"Background: {chained_viewer.background_color}\")\n",
    "print(f\"Show stick: {chained_viewer.show_stick}\")\n",
    "print(f\"Show sphere: {chained_viewer.show_sphere}\")"
   ]
  },
  {
   "cell_type": "code",
   "execution_count": null,
   "metadata": {},
   "outputs": [],
   "source": [
    "# Display the chained viewer\n",
    "chained_viewer"
   ]
  },
  {
   "cell_type": "markdown",
   "metadata": {},
   "source": [
    "## Test Summary"
   ]
  },
  {
   "cell_type": "code",
   "execution_count": null,
   "metadata": {},
   "outputs": [],
   "source": [
    "print(\"🧪 Panel-3Dmol JupyterLite Test Summary\")\n",
    "print(\"=\" * 40)\n",
    "print(\"✅ Package installation\")\n",
    "print(\"✅ Basic viewer creation\")\n",
    "print(\"✅ Molecule loading (XYZ, PDB formats)\")\n",
    "print(\"✅ Visualization style changes\")\n",
    "print(\"✅ Background color changes\")\n",
    "print(\"✅ Factory function usage\")\n",
    "print(\"✅ Panel dashboard integration\")\n",
    "print(\"✅ Method chaining (py3dmol compatibility)\")\n",
    "print(\"✅ Multiple viewer instances\")\n",
    "print(\"\")\n",
    "print(\"🎉 All tests passed! Panel-3Dmol works correctly in JupyterLite.\")\n",
    "print(\"\")\n",
    "print(\"Note: 3D visualization requires 3Dmol.js to load from CDN.\")\n",
    "print(\"If viewers appear empty, check your internet connection.\")"
   ]
  }
 ],
 "metadata": {
  "kernelspec": {
   "display_name": "Python 3 (ipykernel)",
   "language": "python",
   "name": "python3"
  },
  "language_info": {
   "codemirror_mode": {
    "name": "ipython",
    "version": 3
   },
   "file_extension": ".py",
   "mimetype": "text/x-python",
   "name": "python",
   "nbconvert_exporter": "python",
   "pygments_lexer": "ipython3",
   "version": "3.10.0"
  }
 },
 "nbformat": 4,
 "nbformat_minor": 4
}