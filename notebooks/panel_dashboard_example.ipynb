{
 "cells": [
  {
   "cell_type": "markdown",
   "metadata": {},
   "source": [
    "# Panel-3Dmol Dashboard Example\n",
    "\n",
    "This notebook demonstrates creating interactive molecular visualization dashboards with Panel-3Dmol."
   ]
  },
  {
   "cell_type": "code",
   "execution_count": null,
   "metadata": {},
   "outputs": [],
   "source": [
    "# Install if not already available\n",
    "# %pip install git+https://github.com/luvwinnie/panel-chem.git"
   ]
  },
  {
   "cell_type": "code",
   "execution_count": null,
   "metadata": {},
   "outputs": [],
   "source": [
    "import panel as pn\n",
    "from panel_3dmol import Mol3DViewer\n",
    "\n",
    "# Enable Panel extension\n",
    "pn.extension()\n",
    "\n",
    "print(\"✅ Panel-3Dmol loaded successfully\")"
   ]
  },
  {
   "cell_type": "markdown",
   "metadata": {},
   "source": [
    "## Sample Molecular Data"
   ]
  },
  {
   "cell_type": "code",
   "execution_count": null,
   "metadata": {},
   "outputs": [],
   "source": [
    "# Define sample molecules\n",
    "molecules = {\n",
    "    \"Benzene\": {\n",
    "        \"data\": \"\"\"6\n",
    "Benzene molecule\n",
    "C    0.0000    1.3970    0.0000\n",
    "C    1.2098    0.6985    0.0000  \n",
    "C    1.2098   -0.6985    0.0000\n",
    "C    0.0000   -1.3970    0.0000\n",
    "C   -1.2098   -0.6985    0.0000\n",
    "C   -1.2098    0.6985    0.0000\"\"\",\n",
    "        \"format\": \"xyz\"\n",
    "    },\n",
    "    \n",
    "    \"Caffeine\": {\n",
    "        \"data\": \"\"\"ATOM      1  N   CAF     1      -0.744   1.329   0.000  1.00  0.00           N  \n",
    "ATOM      2  C   CAF     1       0.558   1.875   0.000  1.00  0.00           C  \n",
    "ATOM      3  C   CAF     1       1.657   1.080   0.000  1.00  0.00           C  \n",
    "ATOM      4  N   CAF     1       1.657  -0.287   0.000  1.00  0.00           N  \n",
    "ATOM      5  C   CAF     1       0.455  -0.832   0.000  1.00  0.00           C  \n",
    "ATOM      6  C   CAF     1      -0.744  -0.037   0.000  1.00  0.00           C  \"\"\",\n",
    "        \"format\": \"pdb\"\n",
    "    },\n",
    "    \n",
    "    \"Ethanol\": {\n",
    "        \"data\": \"\"\"9\n",
    "Ethanol molecule\n",
    "C   -0.748   0.000   0.000\n",
    "C    0.748   0.000   0.000\n",
    "O    1.244   1.291   0.000\n",
    "H   -1.119  -0.516   0.890\n",
    "H   -1.119  -0.516  -0.890\n",
    "H   -1.119   1.032   0.000\n",
    "H    1.119  -0.516   0.890\n",
    "H    1.119  -0.516  -0.890\n",
    "H    1.892   1.291   0.000\"\"\",\n",
    "        \"format\": \"xyz\"\n",
    "    }\n",
    "}\n",
    "\n",
    "print(f\"Loaded {len(molecules)} sample molecules\")"
   ]
  },
  {
   "cell_type": "markdown",
   "metadata": {},
   "source": [
    "## Interactive Molecular Viewer"
   ]
  },
  {
   "cell_type": "code",
   "execution_count": null,
   "metadata": {},
   "outputs": [],
   "source": [
    "# Create molecular viewer\n",
    "viewer = Mol3DViewer(width=600, height=400)\n",
    "\n",
    "# Create controls\n",
    "molecule_select = pn.widgets.Select(\n",
    "    name=\"Select Molecule\",\n",
    "    options=list(molecules.keys()),\n",
    "    value=\"Benzene\"\n",
    ")\n",
    "\n",
    "background_select = pn.widgets.Select(\n",
    "    name=\"Background Color\",\n",
    "    options=[\"white\", \"black\", \"lightgray\", \"lightblue\"],\n",
    "    value=\"white\"\n",
    ")\n",
    "\n",
    "style_checkboxes = pn.widgets.CheckBoxGroup(\n",
    "    name=\"Visualization Style\",\n",
    "    options=[\"Stick\", \"Sphere\", \"Line\", \"Cartoon\", \"Surface\"],\n",
    "    value=[\"Stick\", \"Sphere\"]\n",
    ")\n",
    "\n",
    "print(\"✅ Controls created\")"
   ]
  },
  {
   "cell_type": "code",
   "execution_count": null,
   "metadata": {},
   "outputs": [],
   "source": [
    "# Define update functions\n",
    "def update_molecule(event):\n",
    "    \"\"\"Update the displayed molecule\"\"\"\n",
    "    mol_name = event.new\n",
    "    mol_data = molecules[mol_name]\n",
    "    \n",
    "    viewer.structure = mol_data[\"data\"]\n",
    "    viewer.filetype = mol_data[\"format\"]\n",
    "    print(f\"✅ Loaded {mol_name}\")\n",
    "\n",
    "def update_background(event):\n",
    "    \"\"\"Update background color\"\"\"\n",
    "    viewer.background_color = event.new\n",
    "    print(f\"✅ Background changed to {event.new}\")\n",
    "\n",
    "def update_style(event):\n",
    "    \"\"\"Update visualization style\"\"\"\n",
    "    styles = event.new\n",
    "    \n",
    "    # Reset all styles\n",
    "    viewer.show_stick = \"Stick\" in styles\n",
    "    viewer.show_sphere = \"Sphere\" in styles\n",
    "    viewer.show_line = \"Line\" in styles\n",
    "    viewer.show_cartoon = \"Cartoon\" in styles\n",
    "    viewer.show_surface = \"Surface\" in styles\n",
    "    \n",
    "    print(f\"✅ Style updated: {', '.join(styles)}\")\n",
    "\n",
    "# Connect event handlers\n",
    "molecule_select.param.watch(update_molecule, 'value')\n",
    "background_select.param.watch(update_background, 'value')\n",
    "style_checkboxes.param.watch(update_style, 'value')\n",
    "\n",
    "# Load initial molecule\n",
    "mol_data = molecules[\"Benzene\"]\n",
    "viewer.structure = mol_data[\"data\"]\n",
    "viewer.filetype = mol_data[\"format\"]\n",
    "\n",
    "print(\"✅ Event handlers connected\")"
   ]
  },
  {
   "cell_type": "code",
   "execution_count": null,
   "metadata": {},
   "outputs": [],
   "source": [
    "# Create interactive dashboard\n",
    "dashboard = pn.Column(\n",
    "    \"## 🧬 Interactive Molecular Viewer\",\n",
    "    \n",
    "    pn.Row(\n",
    "        pn.Column(\n",
    "            \"### Controls\",\n",
    "            molecule_select,\n",
    "            background_select,\n",
    "            style_checkboxes,\n",
    "            width=300\n",
    "        ),\n",
    "        pn.Column(\n",
    "            \"### 3D Visualization\",\n",
    "            viewer\n",
    "        )\n",
    "    ),\n",
    "    \n",
    "    sizing_mode='stretch_width'\n",
    ")\n",
    "\n",
    "dashboard"
   ]
  },
  {
   "cell_type": "markdown",
   "metadata": {},
   "source": [
    "## Dual Molecular Comparison"
   ]
  },
  {
   "cell_type": "code",
   "execution_count": null,
   "metadata": {},
   "outputs": [],
   "source": [
    "# Create two viewers for comparison\n",
    "viewer1 = Mol3DViewer(width=400, height=300)\n",
    "viewer2 = Mol3DViewer(width=400, height=300)\n",
    "\n",
    "# Load different molecules\n",
    "benzene_data = molecules[\"Benzene\"]\n",
    "viewer1.structure = benzene_data[\"data\"]\n",
    "viewer1.filetype = benzene_data[\"format\"]\n",
    "viewer1.setBackgroundColor(\"lightgray\")\n",
    "\n",
    "caffeine_data = molecules[\"Caffeine\"]\n",
    "viewer2.structure = caffeine_data[\"data\"]\n",
    "viewer2.filetype = caffeine_data[\"format\"]\n",
    "viewer2.setBackgroundColor(\"lightblue\")\n",
    "\n",
    "# Create comparison dashboard\n",
    "comparison = pn.Column(\n",
    "    \"## ⚖️ Molecular Comparison\",\n",
    "    \n",
    "    pn.Row(\n",
    "        pn.Column(\n",
    "            \"### Benzene (C₆H₆)\",\n",
    "            \"*Aromatic hydrocarbon*\",\n",
    "            viewer1\n",
    "        ),\n",
    "        pn.Column(\n",
    "            \"### Caffeine (C₈H₁₀N₄O₂)\",\n",
    "            \"*Stimulant alkaloid*\",\n",
    "            viewer2\n",
    "        )\n",
    "    ),\n",
    "    \n",
    "    sizing_mode='stretch_width'\n",
    ")\n",
    "\n",
    "comparison"
   ]
  },
  {
   "cell_type": "markdown",
   "metadata": {},
   "source": [
    "## Style Showcase"
   ]
  },
  {
   "cell_type": "code",
   "execution_count": null,
   "metadata": {},
   "outputs": [],
   "source": [
    "# Create viewers with different styles\n",
    "styles = [\n",
    "    (\"Stick\", {\"stick\": {\"radius\": 0.15}}),\n",
    "    (\"Sphere\", {\"sphere\": {\"radius\": 0.4}}),\n",
    "    (\"Line\", {\"line\": {}}),\n",
    "    (\"Stick + Sphere\", {\"stick\": {\"radius\": 0.1}, \"sphere\": {\"radius\": 0.3}})\n",
    "]\n",
    "\n",
    "style_viewers = []\n",
    "for style_name, style_dict in styles:\n",
    "    v = Mol3DViewer(width=250, height=200)\n",
    "    v.structure = molecules[\"Ethanol\"][\"data\"]\n",
    "    v.filetype = molecules[\"Ethanol\"][\"format\"]\n",
    "    v.setStyle({}, style_dict)\n",
    "    style_viewers.append(pn.Column(f\"**{style_name}**\", v))\n",
    "\n",
    "# Create style showcase\n",
    "showcase = pn.Column(\n",
    "    \"## 🎨 Visualization Styles\",\n",
    "    \"*Same molecule (ethanol) shown with different visualization styles*\",\n",
    "    \n",
    "    pn.Row(*style_viewers),\n",
    "    \n",
    "    sizing_mode='stretch_width'\n",
    ")\n",
    "\n",
    "showcase"
   ]
  },
  {
   "cell_type": "markdown",
   "metadata": {},
   "source": [
    "## File Upload Interface"
   ]
  },
  {
   "cell_type": "code",
   "execution_count": null,
   "metadata": {},
   "outputs": [],
   "source": [
    "# Create file upload interface\n",
    "upload_viewer = Mol3DViewer(width=600, height=400)\n",
    "\n",
    "file_dropper = pn.widgets.FileDropper(\n",
    "    name=\"📁 Drop Molecular File Here\",\n",
    "    height=100,\n",
    "    accepted_file_types=[\".xyz\", \".pdb\", \".mol\", \".sdf\"]\n",
    ")\n",
    "\n",
    "status_text = pn.pane.Markdown(\"*No file uploaded yet*\")\n",
    "\n",
    "def handle_file_upload(event):\n",
    "    \"\"\"Handle file upload\"\"\"\n",
    "    if file_dropper.value:\n",
    "        try:\n",
    "            filename, file_content = next(iter(file_dropper.value.items()))\n",
    "            \n",
    "            # Decode if bytes\n",
    "            if isinstance(file_content, bytes):\n",
    "                file_content = file_content.decode('utf-8', errors='ignore')\n",
    "            \n",
    "            # Determine file format\n",
    "            extension = filename.split('.')[-1].lower()\n",
    "            \n",
    "            # Load into viewer\n",
    "            upload_viewer.structure = file_content\n",
    "            upload_viewer.filetype = extension\n",
    "            \n",
    "            status_text.object = f\"✅ **{filename}** loaded successfully as {extension.upper()} format\"\n",
    "            \n",
    "        except Exception as e:\n",
    "            status_text.object = f\"❌ **Error:** {str(e)}\"\n",
    "\n",
    "file_dropper.param.watch(handle_file_upload, 'value')\n",
    "\n",
    "# Create upload interface\n",
    "upload_interface = pn.Column(\n",
    "    \"## 📤 File Upload Interface\",\n",
    "    \"*Upload your own molecular files (.xyz, .pdb, .mol, .sdf)*\",\n",
    "    \n",
    "    file_dropper,\n",
    "    status_text,\n",
    "    upload_viewer,\n",
    "    \n",
    "    sizing_mode='stretch_width'\n",
    ")\n",
    "\n",
    "upload_interface"
   ]
  },
  {
   "cell_type": "markdown",
   "metadata": {},
   "source": [
    "## Complete Dashboard"
   ]
  },
  {
   "cell_type": "code",
   "execution_count": null,
   "metadata": {},
   "outputs": [],
   "source": [
    "# Combine all components into a complete dashboard\n",
    "complete_dashboard = pn.Tabs(\n",
    "    (\"Interactive Viewer\", dashboard),\n",
    "    (\"Comparison\", comparison),\n",
    "    (\"Style Showcase\", showcase),\n",
    "    (\"File Upload\", upload_interface)\n",
    ")\n",
    "\n",
    "complete_dashboard"
   ]
  },
  {
   "cell_type": "markdown",
   "metadata": {},
   "source": [
    "## Save Dashboard as HTML"
   ]
  },
  {
   "cell_type": "code",
   "execution_count": null,
   "metadata": {},
   "outputs": [],
   "source": [
    "# Save dashboard as standalone HTML file\n",
    "# complete_dashboard.save('molecular_dashboard.html')\n",
    "# print(\"✅ Dashboard saved as 'molecular_dashboard.html'\")\n",
    "\n",
    "print(\"📝 To save the dashboard, uncomment the lines above\")\n",
    "print(\"🌐 The saved HTML file will be fully interactive and standalone\")"
   ]
  },
  {
   "cell_type": "markdown",
   "metadata": {},
   "source": [
    "## Summary\n",
    "\n",
    "This notebook demonstrates:\n",
    "\n",
    "- ✅ **Interactive Controls**: Molecule selection, background colors, visualization styles\n",
    "- ✅ **Multiple Viewers**: Side-by-side molecular comparison\n",
    "- ✅ **Style Showcase**: Different visualization methods\n",
    "- ✅ **File Upload**: Drag-and-drop molecular file loading\n",
    "- ✅ **Tabbed Interface**: Organized dashboard layout\n",
    "- ✅ **HTML Export**: Standalone dashboard creation\n",
    "\n",
    "Panel-3Dmol provides a powerful foundation for creating interactive molecular visualization applications!"
   ]
  }
 ],
 "metadata": {
  "kernelspec": {
   "display_name": "Python 3 (ipykernel)",\n",
   "language": "python",
   "name": "python3"
  },
  "language_info": {
   "codemirror_mode": {
    "name": "ipython",
    "version": 3
   },
   "file_extension": ".py",
   "mimetype": "text/x-python",
   "name": "python",
   "nbconvert_exporter": "python",
   "pygments_lexer": "ipython3",
   "version": "3.10.0"
  }
 },
 "nbformat": 4,
 "nbformat_minor": 4
}